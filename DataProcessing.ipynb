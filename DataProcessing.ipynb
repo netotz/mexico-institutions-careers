{
 "metadata": {
  "kernelspec": {
   "display_name": ".NET (C#)",
   "language": "C#",
   "name": ".net-csharp"
  },
  "language_info": {
   "name": "C#"
  }
 },
 "cells": [
  {
   "cell_type": "markdown",
   "source": [
    "# Getting Mexico's schools and their careers\r\n",
    "\r\n",
    "The objective of this repository is to get the data of Mexico's schools and their careers from an API and then saving it to a database using Entity Framework Core."
   ],
   "metadata": {}
  },
  {
   "cell_type": "markdown",
   "source": [
    "## Calling the API"
   ],
   "metadata": {}
  },
  {
   "cell_type": "markdown",
   "source": [
    "First we are going to call the API. The data source is [DataMéxico](https://datamexico.org/en). I got the API link after playing a bit with their [Tesseract UI](https://api.datamexico.org/ui/), I'm only concerned about the careers that every institution offers, as well as the academic degree of every career."
   ],
   "metadata": {}
  },
  {
   "cell_type": "code",
   "execution_count": null,
   "source": [
    "using System.Net.Http;\r\n",
    "\r\n",
    "var client = new HttpClient();\r\n",
    "var response = await client.GetAsync(\"https://api.datamexico.org/tesseract/data.jsonrecords?cube=anuies_enrollment&debug=true&drilldowns=Academic+Degree%2CCareer%2CInstitution&locale=es&measures=Students&parents=false&sparse=true\");\r\n",
    "var rawContent = await response.Content.ReadAsStringAsync();"
   ],
   "outputs": [],
   "metadata": {
    "dotnet_interactive": {
     "language": "csharp"
    }
   }
  },
  {
   "cell_type": "markdown",
   "source": [
    "If you open and inspect the API GET URL, you'll see that the response is a list of JSONs:\r\n",
    "\r\n",
    "```json\r\n",
    "{\r\n",
    "    \"data\" : [\r\n",
    "        {\r\n",
    "            \"Academic Degree ID\": 8,\r\n",
    "            \"Academic Degree\": \"Estudios Técnicos o Comerciales con Preparatoria Terminada\",\r\n",
    "            \"Career ID\": 11200001,\r\n",
    "            \"Career\": \"Tecnico superior universitario en gestion de educacion y capacitacion\",\r\n",
    "            \"Institution ID\": 3345,\r\n",
    "            \"Institution\": \"Instituto Consorcio Clavijero\",\r\n",
    "            \"Students\": 13\r\n",
    "        },\r\n",
    "        ...\r\n",
    "    ]\r\n",
    "}\r\n",
    "```\r\n",
    "\r\n",
    "So let's generate a C# class to deserialize the response into a typed list:"
   ],
   "metadata": {
    "dotnet_interactive": {
     "language": "csharp"
    }
   }
  },
  {
   "cell_type": "code",
   "execution_count": null,
   "source": [
    "// Root myDeserializedClass = JsonConvert.DeserializeObject<Root>(myJsonResponse);\r\n",
    "#r \"nuget:Newtonsoft.Json\"\r\n",
    "\r\n",
    "using Newtonsoft.Json;\r\n",
    "\r\n",
    "public class ResponseObject\r\n",
    "{\r\n",
    "    [JsonProperty(\"Academic Degree ID\")]\r\n",
    "    public int AcademicDegreeID { get; set; }\r\n",
    "\r\n",
    "    [JsonProperty(\"Academic Degree\")]\r\n",
    "    public string AcademicDegree { get; set; }\r\n",
    "\r\n",
    "    [JsonProperty(\"Career ID\")]\r\n",
    "    public int CareerID { get; set; }\r\n",
    "    public string Career { get; set; }\r\n",
    "\r\n",
    "    [JsonProperty(\"Institution ID\")]\r\n",
    "    public int InstitutionID { get; set; }\r\n",
    "    public string Institution { get; set; }\r\n",
    "    public int Students { get; set; }\r\n",
    "}"
   ],
   "outputs": [
    {
     "data": {
      "text/html": [
       "<div><div></div><div></div><div></div></div>"
      ]
     },
     "metadata": {},
     "output_type": "display_data"
    }
   ],
   "metadata": {
    "dotnet_interactive": {
     "language": "csharp"
    }
   }
  },
  {
   "cell_type": "markdown",
   "source": [
    "## Parsing the API response"
   ],
   "metadata": {}
  },
  {
   "cell_type": "markdown",
   "source": [
    "Now we know how to access the list and the names of the properties:"
   ],
   "metadata": {}
  },
  {
   "cell_type": "code",
   "execution_count": null,
   "source": [
    "#r \"nuget:Newtonsoft.Json\"\r\n",
    "\r\n",
    "using Newtonsoft.Json.Linq;\r\n",
    "\r\n",
    "var objects = JObject.Parse(rawContent)[\"data\"];"
   ],
   "outputs": [
    {
     "data": {
      "text/html": [
       "<div><div></div><div></div><div></div></div>"
      ]
     },
     "metadata": {},
     "output_type": "display_data"
    }
   ],
   "metadata": {
    "dotnet_interactive": {
     "language": "csharp"
    }
   }
  },
  {
   "cell_type": "code",
   "execution_count": null,
   "source": [
    "objects.First().ToString()"
   ],
   "outputs": [
    {
     "data": {
      "text/plain": [
       "{\r\n",
       "  \"Academic Degree ID\": 8,\r\n",
       "  \"Academic Degree\": \"Estudios Técnicos o Comerciales con Preparatoria Terminada\",\r\n",
       "  \"Career ID\": 11000059,\r\n",
       "  \"Career\": \"Licencia profesional en ciencias de la educacion\",\r\n",
       "  \"Institution ID\": 2965,\r\n",
       "  \"Institution\": \"Universidad Unilider S.C.\",\r\n",
       "  \"Students\": 6\r\n",
       "}"
      ]
     },
     "metadata": {},
     "output_type": "display_data"
    }
   ],
   "metadata": {
    "dotnet_interactive": {
     "language": "csharp"
    }
   }
  },
  {
   "cell_type": "code",
   "execution_count": null,
   "source": [
    "objects.First()[\"Career\"].ToString()"
   ],
   "outputs": [
    {
     "data": {
      "text/plain": [
       "Licencia profesional en ciencias de la educacion"
      ]
     },
     "metadata": {},
     "output_type": "display_data"
    }
   ],
   "metadata": {
    "dotnet_interactive": {
     "language": "csharp"
    }
   }
  },
  {
   "cell_type": "markdown",
   "source": [
    "## Referencing models and database context\r\n",
    "\r\n",
    "Before processing the data to organize it as needed, we first need to import the class library project *Database*.\r\n",
    "I used Entity Framework Core code first approach to map the objects to the database, so the DLL output of the project already contains the models.\r\n",
    "\r\n",
    "Inside the project folder, add a `.connection` file and put your connection string there.\r\n",
    "See [`example.connection`](/Database/example.connection).\r\n",
    "\r\n",
    "The `SchoolsContext` class configures different table and property names for the models, according to my specific need.\r\n",
    "Personally I would prefer to stick with the same class and property names, so the `OnModelCreating` method would be simpler.\r\n",
    "\r\n",
    "Follow [these instructions](https://docs.microsoft.com/en-us/ef/core/managing-schemas/migrations/?tabs=dotnet-core-cli) to migrate the code to your database.\r\n",
    "By doing this the project builds so the DLL will be already available."
   ],
   "metadata": {
    "dotnet_interactive": {
     "language": "csharp"
    }
   }
  },
  {
   "cell_type": "code",
   "execution_count": null,
   "source": [
    "#r \".\\Database\\bin\\Debug\\net5.0\\Database.dll\"\r\n",
    "#r \"nuget:Microsoft.EntityFrameworkCore\"\r\n",
    "\r\n",
    "using Database;"
   ],
   "outputs": [
    {
     "data": {
      "text/html": [
       "<div><div></div><div></div><div></div></div>"
      ]
     },
     "metadata": {},
     "output_type": "display_data"
    }
   ],
   "metadata": {
    "dotnet_interactive": {
     "language": "csharp"
    }
   }
  },
  {
   "cell_type": "markdown",
   "source": [
    "## Processing and organizing the data\r\n",
    "\r\n",
    "Let's start by filtering unique records of institutions, degrees, and careers:"
   ],
   "metadata": {}
  },
  {
   "cell_type": "code",
   "execution_count": null,
   "source": [
    "var institutions = objects\r\n",
    "    .GroupBy(o => o[\"Institution ID\"])\r\n",
    "    .Select(g => g.First())\r\n",
    "    .Select(o => new Institution {\r\n",
    "        Name = o[\"Institution\"].ToString(),\r\n",
    "        OriginalId = (long)o[\"Institution ID\"]\r\n",
    "    })\r\n",
    "    .OrderBy(i => i.Name)\r\n",
    "    .ToList();\r\n",
    "\r\n",
    "institutions"
   ],
   "outputs": [
    {
     "data": {
      "text/html": [
       "<table><thead><tr><th><i>index</i></th><th>Id</th><th>Name</th><th>OriginalId</th><th>Careers</th><th>InstitutionCareers</th></tr></thead><tbody><tr><td>0</td><td><div class=\"dni-plaintext\">0</div></td><td>17, Instituto De Estudios Cr&#237;ticos</td><td><div class=\"dni-plaintext\">510</div></td><td><div class=\"dni-plaintext\">&lt;null&gt;</div></td><td><div class=\"dni-plaintext\">&lt;null&gt;</div></td></tr><tr><td>1</td><td><div class=\"dni-plaintext\">0</div></td><td>1972 A&#241;o De Ju&#225;rez</td><td><div class=\"dni-plaintext\">3577</div></td><td><div class=\"dni-plaintext\">&lt;null&gt;</div></td><td><div class=\"dni-plaintext\">&lt;null&gt;</div></td></tr><tr><td>2</td><td><div class=\"dni-plaintext\">0</div></td><td>Academia De Arte Culinaria Internacional</td><td><div class=\"dni-plaintext\">178</div></td><td><div class=\"dni-plaintext\">&lt;null&gt;</div></td><td><div class=\"dni-plaintext\">&lt;null&gt;</div></td></tr><tr><td>3</td><td><div class=\"dni-plaintext\">0</div></td><td>Academia De Arte De Florencia</td><td><div class=\"dni-plaintext\">509</div></td><td><div class=\"dni-plaintext\">&lt;null&gt;</div></td><td><div class=\"dni-plaintext\">&lt;null&gt;</div></td></tr><tr><td>4</td><td><div class=\"dni-plaintext\">0</div></td><td>Academia De Arte Y Dise&#241;o</td><td><div class=\"dni-plaintext\">895</div></td><td><div class=\"dni-plaintext\">&lt;null&gt;</div></td><td><div class=\"dni-plaintext\">&lt;null&gt;</div></td></tr><tr><td>5</td><td><div class=\"dni-plaintext\">0</div></td><td>Academia De Ciencias Sociales Y Desarrollo Humano Acanits</td><td><div class=\"dni-plaintext\">3426</div></td><td><div class=\"dni-plaintext\">&lt;null&gt;</div></td><td><div class=\"dni-plaintext\">&lt;null&gt;</div></td></tr><tr><td>6</td><td><div class=\"dni-plaintext\">0</div></td><td>Academia De Estudios Superiores Constantino</td><td><div class=\"dni-plaintext\">2724</div></td><td><div class=\"dni-plaintext\">&lt;null&gt;</div></td><td><div class=\"dni-plaintext\">&lt;null&gt;</div></td></tr><tr><td>7</td><td><div class=\"dni-plaintext\">0</div></td><td>Academia De Integraci&#243;n Jur&#237;dica De Oaxaca</td><td><div class=\"dni-plaintext\">2341</div></td><td><div class=\"dni-plaintext\">&lt;null&gt;</div></td><td><div class=\"dni-plaintext\">&lt;null&gt;</div></td></tr><tr><td>8</td><td><div class=\"dni-plaintext\">0</div></td><td>Academia De M&#250;sica Fermatta</td><td><div class=\"dni-plaintext\">3598</div></td><td><div class=\"dni-plaintext\">&lt;null&gt;</div></td><td><div class=\"dni-plaintext\">&lt;null&gt;</div></td></tr><tr><td>9</td><td><div class=\"dni-plaintext\">0</div></td><td>Academia De M&#250;sica Solfeggio</td><td><div class=\"dni-plaintext\">1438</div></td><td><div class=\"dni-plaintext\">&lt;null&gt;</div></td><td><div class=\"dni-plaintext\">&lt;null&gt;</div></td></tr><tr><td>10</td><td><div class=\"dni-plaintext\">0</div></td><td>Academia De Pol&#237;tica Digital</td><td><div class=\"dni-plaintext\">2546</div></td><td><div class=\"dni-plaintext\">&lt;null&gt;</div></td><td><div class=\"dni-plaintext\">&lt;null&gt;</div></td></tr><tr><td>11</td><td><div class=\"dni-plaintext\">0</div></td><td>Academia De Seguridad P&#250;blica Del Estado De Baja California</td><td><div class=\"dni-plaintext\">73</div></td><td><div class=\"dni-plaintext\">&lt;null&gt;</div></td><td><div class=\"dni-plaintext\">&lt;null&gt;</div></td></tr><tr><td>12</td><td><div class=\"dni-plaintext\">0</div></td><td>Academia Estatal De Las Fuerzas De Seguridad Publica Del Estado De Puebla</td><td><div class=\"dni-plaintext\">2571</div></td><td><div class=\"dni-plaintext\">&lt;null&gt;</div></td><td><div class=\"dni-plaintext\">&lt;null&gt;</div></td></tr><tr><td>13</td><td><div class=\"dni-plaintext\">0</div></td><td>Academia Internacional De Formaci&#243;n En Ciencias Forenses</td><td><div class=\"dni-plaintext\">662</div></td><td><div class=\"dni-plaintext\">&lt;null&gt;</div></td><td><div class=\"dni-plaintext\">&lt;null&gt;</div></td></tr><tr><td>14</td><td><div class=\"dni-plaintext\">0</div></td><td>Academia Internacional De Yucat&#225;n</td><td><div class=\"dni-plaintext\">3386</div></td><td><div class=\"dni-plaintext\">&lt;null&gt;</div></td><td><div class=\"dni-plaintext\">&lt;null&gt;</div></td></tr><tr><td>15</td><td><div class=\"dni-plaintext\">0</div></td><td>Acai Para La Formaci&#243;n Y El Desarrollo</td><td><div class=\"dni-plaintext\">2047</div></td><td><div class=\"dni-plaintext\">&lt;null&gt;</div></td><td><div class=\"dni-plaintext\">&lt;null&gt;</div></td></tr><tr><td>16</td><td><div class=\"dni-plaintext\">0</div></td><td>Ag College, A.C.</td><td><div class=\"dni-plaintext\">2897</div></td><td><div class=\"dni-plaintext\">&lt;null&gt;</div></td><td><div class=\"dni-plaintext\">&lt;null&gt;</div></td></tr><tr><td>17</td><td><div class=\"dni-plaintext\">0</div></td><td>Aisol M&#233;xico</td><td><div class=\"dni-plaintext\">28</div></td><td><div class=\"dni-plaintext\">&lt;null&gt;</div></td><td><div class=\"dni-plaintext\">&lt;null&gt;</div></td></tr><tr><td>18</td><td><div class=\"dni-plaintext\">0</div></td><td>Alfonso Tohen Zamudio</td><td><div class=\"dni-plaintext\">2783</div></td><td><div class=\"dni-plaintext\">&lt;null&gt;</div></td><td><div class=\"dni-plaintext\">&lt;null&gt;</div></td></tr><tr><td>19</td><td><div class=\"dni-plaintext\">0</div></td><td>Alianza Para La Innovaci&#243;n Y La Competitividad Alinnco</td><td><div class=\"dni-plaintext\">1503</div></td><td><div class=\"dni-plaintext\">&lt;null&gt;</div></td><td><div class=\"dni-plaintext\">&lt;null&gt;</div></td></tr><tr><td colspan=\"6\">(3769 more)</td></tr></tbody></table>"
      ]
     },
     "metadata": {},
     "output_type": "display_data"
    }
   ],
   "metadata": {
    "dotnet_interactive": {
     "language": "csharp"
    }
   }
  },
  {
   "cell_type": "code",
   "execution_count": null,
   "source": [
    "var degrees = objects\r\n",
    "    .GroupBy(o => o[\"Academic Degree ID\"])\r\n",
    "    .Select(g => g.First())\r\n",
    "    .Select(o => new Degree {\r\n",
    "        Name = o[\"Academic Degree\"].ToString(),\r\n",
    "        OriginalId = (long)o[\"Academic Degree ID\"]\r\n",
    "    })\r\n",
    "    .OrderBy(d => d.Name)\r\n",
    "    .ToList();\r\n",
    "\r\n",
    "degrees"
   ],
   "outputs": [
    {
     "data": {
      "text/html": [
       "<table><thead><tr><th><i>index</i></th><th>Id</th><th>Name</th><th>OriginalId</th><th>Careers</th></tr></thead><tbody><tr><td>0</td><td><div class=\"dni-plaintext\">0</div></td><td>Doctorado</td><td><div class=\"dni-plaintext\">14</div></td><td><div class=\"dni-plaintext\">&lt;null&gt;</div></td></tr><tr><td>1</td><td><div class=\"dni-plaintext\">0</div></td><td>Especialidad</td><td><div class=\"dni-plaintext\">12</div></td><td><div class=\"dni-plaintext\">&lt;null&gt;</div></td></tr><tr><td>2</td><td><div class=\"dni-plaintext\">0</div></td><td>Estudios T&#233;cnicos o Comerciales con Preparatoria Terminada</td><td><div class=\"dni-plaintext\">8</div></td><td><div class=\"dni-plaintext\">&lt;null&gt;</div></td></tr><tr><td>3</td><td><div class=\"dni-plaintext\">0</div></td><td>Licenciatura</td><td><div class=\"dni-plaintext\">11</div></td><td><div class=\"dni-plaintext\">&lt;null&gt;</div></td></tr><tr><td>4</td><td><div class=\"dni-plaintext\">0</div></td><td>Maestr&#237;a</td><td><div class=\"dni-plaintext\">13</div></td><td><div class=\"dni-plaintext\">&lt;null&gt;</div></td></tr><tr><td>5</td><td><div class=\"dni-plaintext\">0</div></td><td>Normal de Licenciatura</td><td><div class=\"dni-plaintext\">10</div></td><td><div class=\"dni-plaintext\">&lt;null&gt;</div></td></tr></tbody></table>"
      ]
     },
     "metadata": {},
     "output_type": "display_data"
    }
   ],
   "metadata": {
    "dotnet_interactive": {
     "language": "csharp"
    }
   }
  },
  {
   "cell_type": "code",
   "execution_count": null,
   "source": [
    "var careers = objects\r\n",
    "    .GroupBy(o => o[\"Career ID\"])\r\n",
    "    .Select(g => g.First())\r\n",
    "    .Select(o => new Career {\r\n",
    "        Name = o[\"Career\"].ToString(),\r\n",
    "        OriginalId = (long)o[\"Career ID\"],\r\n",
    "        DegreeId = (int)o[\"Academic Degree ID\"]\r\n",
    "    })\r\n",
    "    .OrderBy(c => c.Name)\r\n",
    "    .ToList();\r\n",
    "\r\n",
    "careers"
   ],
   "outputs": [
    {
     "data": {
      "text/html": [
       "<table><thead><tr><th><i>index</i></th><th>Id</th><th>Name</th><th>OriginalId</th><th>DegreeId</th><th>Degree</th><th>Institutions</th><th>InstitutionCareers</th></tr></thead><tbody><tr><td>0</td><td><div class=\"dni-plaintext\">0</div></td><td>Abogado</td><td><div class=\"dni-plaintext\">33100537</div></td><td><div class=\"dni-plaintext\">11</div></td><td><div class=\"dni-plaintext\">&lt;null&gt;</div></td><td><div class=\"dni-plaintext\">&lt;null&gt;</div></td><td><div class=\"dni-plaintext\">&lt;null&gt;</div></td></tr><tr><td>1</td><td><div class=\"dni-plaintext\">0</div></td><td>Abogado, notario y actuario</td><td><div class=\"dni-plaintext\">33100536</div></td><td><div class=\"dni-plaintext\">11</div></td><td><div class=\"dni-plaintext\">&lt;null&gt;</div></td><td><div class=\"dni-plaintext\">&lt;null&gt;</div></td><td><div class=\"dni-plaintext\">&lt;null&gt;</div></td></tr><tr><td>2</td><td><div class=\"dni-plaintext\">0</div></td><td>Actuario</td><td><div class=\"dni-plaintext\">53200029</div></td><td><div class=\"dni-plaintext\">11</div></td><td><div class=\"dni-plaintext\">&lt;null&gt;</div></td><td><div class=\"dni-plaintext\">&lt;null&gt;</div></td><td><div class=\"dni-plaintext\">&lt;null&gt;</div></td></tr><tr><td>3</td><td><div class=\"dni-plaintext\">0</div></td><td>Alta especialidad en anestesia de alto riesgo y medicina perioperatoria</td><td><div class=\"dni-plaintext\">91301011</div></td><td><div class=\"dni-plaintext\">12</div></td><td><div class=\"dni-plaintext\">&lt;null&gt;</div></td><td><div class=\"dni-plaintext\">&lt;null&gt;</div></td><td><div class=\"dni-plaintext\">&lt;null&gt;</div></td></tr><tr><td>4</td><td><div class=\"dni-plaintext\">0</div></td><td>Alta especialidad en broncoscopia y neumologia intervencionista</td><td><div class=\"dni-plaintext\">91332008</div></td><td><div class=\"dni-plaintext\">12</div></td><td><div class=\"dni-plaintext\">&lt;null&gt;</div></td><td><div class=\"dni-plaintext\">&lt;null&gt;</div></td><td><div class=\"dni-plaintext\">&lt;null&gt;</div></td></tr><tr><td>5</td><td><div class=\"dni-plaintext\">0</div></td><td>Alta especialidad en glaucoma</td><td><div class=\"dni-plaintext\">91335008</div></td><td><div class=\"dni-plaintext\">12</div></td><td><div class=\"dni-plaintext\">&lt;null&gt;</div></td><td><div class=\"dni-plaintext\">&lt;null&gt;</div></td><td><div class=\"dni-plaintext\">&lt;null&gt;</div></td></tr><tr><td>6</td><td><div class=\"dni-plaintext\">0</div></td><td>Alta especialidad en minima invasion, endourologia y cirugia robotica en urologia</td><td><div class=\"dni-plaintext\">91344007</div></td><td><div class=\"dni-plaintext\">12</div></td><td><div class=\"dni-plaintext\">&lt;null&gt;</div></td><td><div class=\"dni-plaintext\">&lt;null&gt;</div></td><td><div class=\"dni-plaintext\">&lt;null&gt;</div></td></tr><tr><td>7</td><td><div class=\"dni-plaintext\">0</div></td><td>Alta especialidad en oculoplastica</td><td><div class=\"dni-plaintext\">91309005</div></td><td><div class=\"dni-plaintext\">12</div></td><td><div class=\"dni-plaintext\">&lt;null&gt;</div></td><td><div class=\"dni-plaintext\">&lt;null&gt;</div></td><td><div class=\"dni-plaintext\">&lt;null&gt;</div></td></tr><tr><td>8</td><td><div class=\"dni-plaintext\">0</div></td><td>Alta especialidad en retina y vitrio</td><td><div class=\"dni-plaintext\">91335007</div></td><td><div class=\"dni-plaintext\">12</div></td><td><div class=\"dni-plaintext\">&lt;null&gt;</div></td><td><div class=\"dni-plaintext\">&lt;null&gt;</div></td><td><div class=\"dni-plaintext\">&lt;null&gt;</div></td></tr><tr><td>9</td><td><div class=\"dni-plaintext\">0</div></td><td>Arquitecto</td><td><div class=\"dni-plaintext\">73100186</div></td><td><div class=\"dni-plaintext\">11</div></td><td><div class=\"dni-plaintext\">&lt;null&gt;</div></td><td><div class=\"dni-plaintext\">&lt;null&gt;</div></td><td><div class=\"dni-plaintext\">&lt;null&gt;</div></td></tr><tr><td>10</td><td><div class=\"dni-plaintext\">0</div></td><td>Arquitecto (diseno de interiores)</td><td><div class=\"dni-plaintext\">21600127</div></td><td><div class=\"dni-plaintext\">11</div></td><td><div class=\"dni-plaintext\">&lt;null&gt;</div></td><td><div class=\"dni-plaintext\">&lt;null&gt;</div></td><td><div class=\"dni-plaintext\">&lt;null&gt;</div></td></tr><tr><td>11</td><td><div class=\"dni-plaintext\">0</div></td><td>Arquitecto constructor</td><td><div class=\"dni-plaintext\">73100185</div></td><td><div class=\"dni-plaintext\">11</div></td><td><div class=\"dni-plaintext\">&lt;null&gt;</div></td><td><div class=\"dni-plaintext\">&lt;null&gt;</div></td><td><div class=\"dni-plaintext\">&lt;null&gt;</div></td></tr><tr><td>12</td><td><div class=\"dni-plaintext\">0</div></td><td>Arquitecto urbanista</td><td><div class=\"dni-plaintext\">73100184</div></td><td><div class=\"dni-plaintext\">11</div></td><td><div class=\"dni-plaintext\">&lt;null&gt;</div></td><td><div class=\"dni-plaintext\">&lt;null&gt;</div></td><td><div class=\"dni-plaintext\">&lt;null&gt;</div></td></tr><tr><td>13</td><td><div class=\"dni-plaintext\">0</div></td><td>Arquitectura</td><td><div class=\"dni-plaintext\">73100183</div></td><td><div class=\"dni-plaintext\">11</div></td><td><div class=\"dni-plaintext\">&lt;null&gt;</div></td><td><div class=\"dni-plaintext\">&lt;null&gt;</div></td><td><div class=\"dni-plaintext\">&lt;null&gt;</div></td></tr><tr><td>14</td><td><div class=\"dni-plaintext\">0</div></td><td>Bachelor in business administration</td><td><div class=\"dni-plaintext\">42100621</div></td><td><div class=\"dni-plaintext\">11</div></td><td><div class=\"dni-plaintext\">&lt;null&gt;</div></td><td><div class=\"dni-plaintext\">&lt;null&gt;</div></td><td><div class=\"dni-plaintext\">&lt;null&gt;</div></td></tr><tr><td>15</td><td><div class=\"dni-plaintext\">0</div></td><td>Bachelor in financial management</td><td><div class=\"dni-plaintext\">41300125</div></td><td><div class=\"dni-plaintext\">11</div></td><td><div class=\"dni-plaintext\">&lt;null&gt;</div></td><td><div class=\"dni-plaintext\">&lt;null&gt;</div></td><td><div class=\"dni-plaintext\">&lt;null&gt;</div></td></tr><tr><td>16</td><td><div class=\"dni-plaintext\">0</div></td><td>Bachelor in international affairs</td><td><div class=\"dni-plaintext\">31300161</div></td><td><div class=\"dni-plaintext\">11</div></td><td><div class=\"dni-plaintext\">&lt;null&gt;</div></td><td><div class=\"dni-plaintext\">&lt;null&gt;</div></td><td><div class=\"dni-plaintext\">&lt;null&gt;</div></td></tr><tr><td>17</td><td><div class=\"dni-plaintext\">0</div></td><td>Bachelor in international business</td><td><div class=\"dni-plaintext\">41100287</div></td><td><div class=\"dni-plaintext\">11</div></td><td><div class=\"dni-plaintext\">&lt;null&gt;</div></td><td><div class=\"dni-plaintext\">&lt;null&gt;</div></td><td><div class=\"dni-plaintext\">&lt;null&gt;</div></td></tr><tr><td>18</td><td><div class=\"dni-plaintext\">0</div></td><td>Bachelor in marketing</td><td><div class=\"dni-plaintext\">41200322</div></td><td><div class=\"dni-plaintext\">11</div></td><td><div class=\"dni-plaintext\">&lt;null&gt;</div></td><td><div class=\"dni-plaintext\">&lt;null&gt;</div></td><td><div class=\"dni-plaintext\">&lt;null&gt;</div></td></tr><tr><td>19</td><td><div class=\"dni-plaintext\">0</div></td><td>Bachelor in marketing and communication</td><td><div class=\"dni-plaintext\">41200321</div></td><td><div class=\"dni-plaintext\">11</div></td><td><div class=\"dni-plaintext\">&lt;null&gt;</div></td><td><div class=\"dni-plaintext\">&lt;null&gt;</div></td><td><div class=\"dni-plaintext\">&lt;null&gt;</div></td></tr><tr><td colspan=\"8\">(10302 more)</td></tr></tbody></table>"
      ]
     },
     "metadata": {},
     "output_type": "display_data"
    }
   ],
   "metadata": {
    "dotnet_interactive": {
     "language": "csharp"
    }
   }
  }
 ],
 "nbformat": 4,
 "nbformat_minor": 2
}