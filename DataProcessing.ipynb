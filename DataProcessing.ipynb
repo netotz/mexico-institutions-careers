{
 "metadata": {
  "kernelspec": {
   "display_name": ".NET (C#)",
   "language": "C#",
   "name": ".net-csharp"
  },
  "language_info": {
   "name": "C#"
  }
 },
 "cells": [
  {
   "cell_type": "markdown",
   "source": [
    "# Getting Mexico's schools and their careers\r\n",
    "\r\n",
    "The objective of this repository is to get the data of Mexico's schools and their careers from an API and then saving it to a database using Entity Framework Core."
   ],
   "metadata": {}
  },
  {
   "cell_type": "markdown",
   "source": [
    "## Calling the API"
   ],
   "metadata": {}
  },
  {
   "cell_type": "markdown",
   "source": [
    "First we are going to call the API. The data source is [DataMéxico](https://datamexico.org/en). I got the API link after playing a bit with their [Tesseract UI](https://api.datamexico.org/ui/), I'm only concerned about the careers that every institution offers, as well as the academic degree of every career.\r\n",
    "\r\n",
    "This will get the data in Spanish, if you want to get it in English, change the `locale` parameter to `en`."
   ],
   "metadata": {}
  },
  {
   "cell_type": "code",
   "execution_count": null,
   "source": [
    "using System.Net.Http;\r\n",
    "\r\n",
    "var client = new HttpClient();\r\n",
    "var locale = \"es\";\r\n",
    "var response = await client.GetAsync(\r\n",
    "    $\"https://api.datamexico.org/tesseract/data.jsonrecords?cube=anuies_enrollment&drilldowns=Academic+Degree%2CCareer%2CInstitution&locale={locale}&measures=Students&parents=false&sparse=true\");\r\n",
    "var rawContent = await response.Content.ReadAsStringAsync();"
   ],
   "outputs": [],
   "metadata": {
    "dotnet_interactive": {
     "language": "csharp"
    }
   }
  },
  {
   "cell_type": "markdown",
   "source": [
    "If we open and inspect the API GET URL, we'll see that the response is a list of JSONs:\r\n",
    "\r\n",
    "```json\r\n",
    "{\r\n",
    "    \"data\" : [\r\n",
    "        {\r\n",
    "            \"Academic Degree ID\": 8,\r\n",
    "            \"Academic Degree\": \"Estudios Técnicos o Comerciales con Preparatoria Terminada\",\r\n",
    "            \"Career ID\": 11200001,\r\n",
    "            \"Career\": \"Tecnico superior universitario en gestion de educacion y capacitacion\",\r\n",
    "            \"Institution ID\": 3345,\r\n",
    "            \"Institution\": \"Instituto Consorcio Clavijero\",\r\n",
    "            \"Students\": 13\r\n",
    "        },\r\n",
    "        ...\r\n",
    "    ]\r\n",
    "}\r\n",
    "```"
   ],
   "metadata": {
    "dotnet_interactive": {
     "language": "csharp"
    }
   }
  },
  {
   "cell_type": "markdown",
   "source": [
    "## Parsing the API response"
   ],
   "metadata": {}
  },
  {
   "cell_type": "markdown",
   "source": [
    "Now we know how to access the list and the names of the properties:"
   ],
   "metadata": {}
  },
  {
   "cell_type": "code",
   "execution_count": null,
   "source": [
    "#r \"nuget:Newtonsoft.Json\"\r\n",
    "\r\n",
    "using Newtonsoft.Json.Linq;\r\n",
    "\r\n",
    "var objects = JObject.Parse(rawContent)[\"data\"];"
   ],
   "outputs": [
    {
     "output_type": "display_data",
     "data": {
      "text/html": [
       "<div><div></div><div><strong>Installed Packages</strong><ul><li><span>Newtonsoft.Json, 13.0.1</span></li></ul></div><div></div></div>"
      ]
     },
     "metadata": {}
    }
   ],
   "metadata": {
    "dotnet_interactive": {
     "language": "csharp"
    }
   }
  },
  {
   "cell_type": "code",
   "execution_count": null,
   "source": [
    "objects.First().ToString()"
   ],
   "outputs": [
    {
     "output_type": "display_data",
     "data": {
      "text/plain": [
       "{\r\n",
       "  \"Academic Degree ID\": 8,\r\n",
       "  \"Academic Degree\": \"Estudios Técnicos o Comerciales con Preparatoria Terminada\",\r\n",
       "  \"Career ID\": 11000059,\r\n",
       "  \"Career\": \"Licencia profesional en ciencias de la educacion\",\r\n",
       "  \"Institution ID\": 2965,\r\n",
       "  \"Institution\": \"Universidad Unilider S.C.\",\r\n",
       "  \"Students\": 6\r\n",
       "}"
      ]
     },
     "metadata": {}
    }
   ],
   "metadata": {
    "dotnet_interactive": {
     "language": "csharp"
    }
   }
  },
  {
   "cell_type": "code",
   "execution_count": null,
   "source": [
    "objects.First()[\"Career\"].ToString()"
   ],
   "outputs": [
    {
     "output_type": "display_data",
     "data": {
      "text/plain": [
       "Licencia profesional en ciencias de la educacion"
      ]
     },
     "metadata": {}
    }
   ],
   "metadata": {
    "dotnet_interactive": {
     "language": "csharp"
    }
   }
  },
  {
   "cell_type": "markdown",
   "source": [
    "## Referencing models and database context\r\n",
    "\r\n",
    "Before processing the data to organize it as needed, we first need to import the class library project *Database*.\r\n",
    "I used Entity Framework Core code first approach to map the objects to the database, so the DLL output of the project already contains the models.\r\n",
    "\r\n",
    "Inside the project folder, add a `.connection` file and put your connection string there.\r\n",
    "See [`example.connection`](https://github.com/netotz/mexico-institutions-careers/blob/main/Database/example.connection).\r\n",
    "\r\n",
    "The `SchoolsContext` class configures different table and property names for the models, according to my specific need.\r\n",
    "Personally I would prefer to stick with the same class and property names, so the `OnModelCreating` method would be simpler.\r\n",
    "\r\n",
    "Follow [these instructions](https://docs.microsoft.com/en-us/ef/core/managing-schemas/migrations/?tabs=dotnet-core-cli) to migrate the code to your database.\r\n",
    "By doing this the project builds so the DLL will be already available."
   ],
   "metadata": {
    "dotnet_interactive": {
     "language": "csharp"
    }
   }
  },
  {
   "cell_type": "code",
   "execution_count": null,
   "source": [
    "#r \".\\Database\\bin\\Debug\\net5.0\\Database.dll\"\r\n",
    "#r \"nuget:Microsoft.EntityFrameworkCore\"\r\n",
    "#r \"nuget:Microsoft.EntityFrameworkCore.SqlServer\"\r\n",
    "\r\n",
    "using Database;"
   ],
   "outputs": [
    {
     "output_type": "display_data",
     "data": {
      "text/html": [
       "<div><div></div><div><strong>Installed Packages</strong><ul><li><span>microsoft.data.sqlclient, 2.0.1</span></li><li><span>microsoft.data.sqlclient.sni.runtime, 2.0.1</span></li><li><span>Microsoft.EntityFrameworkCore, 5.0.8</span></li><li><span>microsoft.entityframeworkcore.abstractions, 5.0.8</span></li><li><span>microsoft.entityframeworkcore.relational, 5.0.8</span></li><li><span>Microsoft.EntityFrameworkCore.SqlServer, 5.0.8</span></li><li><span>microsoft.extensions.caching.abstractions, 5.0.0</span></li><li><span>microsoft.extensions.caching.memory, 5.0.0</span></li><li><span>microsoft.extensions.configuration.abstractions, 5.0.0</span></li><li><span>microsoft.extensions.dependencyinjection, 5.0.2</span></li><li><span>microsoft.extensions.dependencyinjection.abstractions, 5.0.0</span></li><li><span>microsoft.extensions.logging, 5.0.0</span></li><li><span>microsoft.extensions.logging.abstractions, 5.0.0</span></li><li><span>microsoft.extensions.options, 5.0.0</span></li><li><span>microsoft.extensions.primitives, 5.0.0</span></li><li><span>microsoft.identity.client, 4.14.0</span></li><li><span>microsoft.identitymodel.jsonwebtokens, 5.6.0</span></li><li><span>microsoft.identitymodel.logging, 5.6.0</span></li><li><span>microsoft.identitymodel.protocols, 5.6.0</span></li><li><span>microsoft.identitymodel.protocols.openidconnect, 5.6.0</span></li><li><span>microsoft.identitymodel.tokens, 5.6.0</span></li><li><span>microsoft.win32.systemevents, 4.7.0</span></li><li><span>system.configuration.configurationmanager, 4.7.0</span></li><li><span>system.diagnostics.diagnosticsource, 5.0.1</span></li><li><span>system.drawing.common, 4.7.0</span></li><li><span>system.identitymodel.tokens.jwt, 5.6.0</span></li><li><span>system.runtime.caching, 4.7.0</span></li><li><span>system.security.cryptography.protecteddata, 4.7.0</span></li><li><span>system.security.permissions, 4.7.0</span></li><li><span>system.windows.extensions, 4.7.0</span></li></ul></div><div></div></div>"
      ]
     },
     "metadata": {}
    }
   ],
   "metadata": {
    "dotnet_interactive": {
     "language": "csharp"
    }
   }
  },
  {
   "cell_type": "markdown",
   "source": [
    "## Processing and organizing the data\r\n",
    "\r\n",
    "Let's start by filtering unique records of institutions, degrees, and careers:"
   ],
   "metadata": {}
  },
  {
   "cell_type": "code",
   "execution_count": null,
   "source": [
    "var institutions = objects\r\n",
    "    .GroupBy(o => o[\"Institution ID\"])\r\n",
    "    .Select(g => g.First())\r\n",
    "    .Select(o => new Institution {\r\n",
    "        Id = (int)o[\"Institution ID\"],\r\n",
    "        Name = o[\"Institution\"].ToString()\r\n",
    "    })\r\n",
    "    .OrderBy(i => i.Name)\r\n",
    "    .ToList();\r\n",
    "\r\n",
    "institutions"
   ],
   "outputs": [
    {
     "output_type": "display_data",
     "data": {
      "text/html": [
       "<table><thead><tr><th><i>index</i></th><th>Id</th><th>Name</th><th>Careers</th><th>InstitutionCareers</th></tr></thead><tbody><tr><td>0</td><td><div class=\"dni-plaintext\">510</div></td><td>17, Instituto De Estudios Cr&#237;ticos</td><td><div class=\"dni-plaintext\">&lt;null&gt;</div></td><td><div class=\"dni-plaintext\">&lt;null&gt;</div></td></tr><tr><td>1</td><td><div class=\"dni-plaintext\">3577</div></td><td>1972 A&#241;o De Ju&#225;rez</td><td><div class=\"dni-plaintext\">&lt;null&gt;</div></td><td><div class=\"dni-plaintext\">&lt;null&gt;</div></td></tr><tr><td>2</td><td><div class=\"dni-plaintext\">178</div></td><td>Academia De Arte Culinaria Internacional</td><td><div class=\"dni-plaintext\">&lt;null&gt;</div></td><td><div class=\"dni-plaintext\">&lt;null&gt;</div></td></tr><tr><td>3</td><td><div class=\"dni-plaintext\">509</div></td><td>Academia De Arte De Florencia</td><td><div class=\"dni-plaintext\">&lt;null&gt;</div></td><td><div class=\"dni-plaintext\">&lt;null&gt;</div></td></tr><tr><td>4</td><td><div class=\"dni-plaintext\">895</div></td><td>Academia De Arte Y Dise&#241;o</td><td><div class=\"dni-plaintext\">&lt;null&gt;</div></td><td><div class=\"dni-plaintext\">&lt;null&gt;</div></td></tr><tr><td>5</td><td><div class=\"dni-plaintext\">3426</div></td><td>Academia De Ciencias Sociales Y Desarrollo Humano Acanits</td><td><div class=\"dni-plaintext\">&lt;null&gt;</div></td><td><div class=\"dni-plaintext\">&lt;null&gt;</div></td></tr><tr><td>6</td><td><div class=\"dni-plaintext\">2724</div></td><td>Academia De Estudios Superiores Constantino</td><td><div class=\"dni-plaintext\">&lt;null&gt;</div></td><td><div class=\"dni-plaintext\">&lt;null&gt;</div></td></tr><tr><td>7</td><td><div class=\"dni-plaintext\">2341</div></td><td>Academia De Integraci&#243;n Jur&#237;dica De Oaxaca</td><td><div class=\"dni-plaintext\">&lt;null&gt;</div></td><td><div class=\"dni-plaintext\">&lt;null&gt;</div></td></tr><tr><td>8</td><td><div class=\"dni-plaintext\">3598</div></td><td>Academia De M&#250;sica Fermatta</td><td><div class=\"dni-plaintext\">&lt;null&gt;</div></td><td><div class=\"dni-plaintext\">&lt;null&gt;</div></td></tr><tr><td>9</td><td><div class=\"dni-plaintext\">1438</div></td><td>Academia De M&#250;sica Solfeggio</td><td><div class=\"dni-plaintext\">&lt;null&gt;</div></td><td><div class=\"dni-plaintext\">&lt;null&gt;</div></td></tr><tr><td>10</td><td><div class=\"dni-plaintext\">2546</div></td><td>Academia De Pol&#237;tica Digital</td><td><div class=\"dni-plaintext\">&lt;null&gt;</div></td><td><div class=\"dni-plaintext\">&lt;null&gt;</div></td></tr><tr><td>11</td><td><div class=\"dni-plaintext\">73</div></td><td>Academia De Seguridad P&#250;blica Del Estado De Baja California</td><td><div class=\"dni-plaintext\">&lt;null&gt;</div></td><td><div class=\"dni-plaintext\">&lt;null&gt;</div></td></tr><tr><td>12</td><td><div class=\"dni-plaintext\">2571</div></td><td>Academia Estatal De Las Fuerzas De Seguridad Publica Del Estado De Puebla</td><td><div class=\"dni-plaintext\">&lt;null&gt;</div></td><td><div class=\"dni-plaintext\">&lt;null&gt;</div></td></tr><tr><td>13</td><td><div class=\"dni-plaintext\">662</div></td><td>Academia Internacional De Formaci&#243;n En Ciencias Forenses</td><td><div class=\"dni-plaintext\">&lt;null&gt;</div></td><td><div class=\"dni-plaintext\">&lt;null&gt;</div></td></tr><tr><td>14</td><td><div class=\"dni-plaintext\">3386</div></td><td>Academia Internacional De Yucat&#225;n</td><td><div class=\"dni-plaintext\">&lt;null&gt;</div></td><td><div class=\"dni-plaintext\">&lt;null&gt;</div></td></tr><tr><td>15</td><td><div class=\"dni-plaintext\">2047</div></td><td>Acai Para La Formaci&#243;n Y El Desarrollo</td><td><div class=\"dni-plaintext\">&lt;null&gt;</div></td><td><div class=\"dni-plaintext\">&lt;null&gt;</div></td></tr><tr><td>16</td><td><div class=\"dni-plaintext\">2897</div></td><td>Ag College, A.C.</td><td><div class=\"dni-plaintext\">&lt;null&gt;</div></td><td><div class=\"dni-plaintext\">&lt;null&gt;</div></td></tr><tr><td>17</td><td><div class=\"dni-plaintext\">28</div></td><td>Aisol M&#233;xico</td><td><div class=\"dni-plaintext\">&lt;null&gt;</div></td><td><div class=\"dni-plaintext\">&lt;null&gt;</div></td></tr><tr><td>18</td><td><div class=\"dni-plaintext\">2783</div></td><td>Alfonso Tohen Zamudio</td><td><div class=\"dni-plaintext\">&lt;null&gt;</div></td><td><div class=\"dni-plaintext\">&lt;null&gt;</div></td></tr><tr><td>19</td><td><div class=\"dni-plaintext\">1503</div></td><td>Alianza Para La Innovaci&#243;n Y La Competitividad Alinnco</td><td><div class=\"dni-plaintext\">&lt;null&gt;</div></td><td><div class=\"dni-plaintext\">&lt;null&gt;</div></td></tr><tr><td colspan=\"5\">(3769 more)</td></tr></tbody></table>"
      ]
     },
     "metadata": {}
    }
   ],
   "metadata": {
    "dotnet_interactive": {
     "language": "csharp"
    }
   }
  },
  {
   "cell_type": "code",
   "execution_count": null,
   "source": [
    "var careers = objects\r\n",
    "    .GroupBy(o => o[\"Career ID\"])\r\n",
    "    .Select(g => g.First())\r\n",
    "    .Select(o => new Career {\r\n",
    "        Id = (int)o[\"Career ID\"],\r\n",
    "        Name = o[\"Career\"].ToString(),\r\n",
    "        DegreeId = (int)o[\"Academic Degree ID\"]\r\n",
    "    })\r\n",
    "    .OrderBy(c => c.Name)\r\n",
    "    .ToList();\r\n",
    "\r\n",
    "careers"
   ],
   "outputs": [
    {
     "output_type": "display_data",
     "data": {
      "text/html": [
       "<table><thead><tr><th><i>index</i></th><th>Id</th><th>Name</th><th>DegreeId</th><th>Degree</th><th>Institutions</th><th>InstitutionCareers</th></tr></thead><tbody><tr><td>0</td><td><div class=\"dni-plaintext\">33100537</div></td><td>Abogado</td><td><div class=\"dni-plaintext\">11</div></td><td><div class=\"dni-plaintext\">&lt;null&gt;</div></td><td><div class=\"dni-plaintext\">&lt;null&gt;</div></td><td><div class=\"dni-plaintext\">&lt;null&gt;</div></td></tr><tr><td>1</td><td><div class=\"dni-plaintext\">33100536</div></td><td>Abogado, notario y actuario</td><td><div class=\"dni-plaintext\">11</div></td><td><div class=\"dni-plaintext\">&lt;null&gt;</div></td><td><div class=\"dni-plaintext\">&lt;null&gt;</div></td><td><div class=\"dni-plaintext\">&lt;null&gt;</div></td></tr><tr><td>2</td><td><div class=\"dni-plaintext\">53200029</div></td><td>Actuario</td><td><div class=\"dni-plaintext\">11</div></td><td><div class=\"dni-plaintext\">&lt;null&gt;</div></td><td><div class=\"dni-plaintext\">&lt;null&gt;</div></td><td><div class=\"dni-plaintext\">&lt;null&gt;</div></td></tr><tr><td>3</td><td><div class=\"dni-plaintext\">91301011</div></td><td>Alta especialidad en anestesia de alto riesgo y medicina perioperatoria</td><td><div class=\"dni-plaintext\">12</div></td><td><div class=\"dni-plaintext\">&lt;null&gt;</div></td><td><div class=\"dni-plaintext\">&lt;null&gt;</div></td><td><div class=\"dni-plaintext\">&lt;null&gt;</div></td></tr><tr><td>4</td><td><div class=\"dni-plaintext\">91332008</div></td><td>Alta especialidad en broncoscopia y neumologia intervencionista</td><td><div class=\"dni-plaintext\">12</div></td><td><div class=\"dni-plaintext\">&lt;null&gt;</div></td><td><div class=\"dni-plaintext\">&lt;null&gt;</div></td><td><div class=\"dni-plaintext\">&lt;null&gt;</div></td></tr><tr><td>5</td><td><div class=\"dni-plaintext\">91335008</div></td><td>Alta especialidad en glaucoma</td><td><div class=\"dni-plaintext\">12</div></td><td><div class=\"dni-plaintext\">&lt;null&gt;</div></td><td><div class=\"dni-plaintext\">&lt;null&gt;</div></td><td><div class=\"dni-plaintext\">&lt;null&gt;</div></td></tr><tr><td>6</td><td><div class=\"dni-plaintext\">91344007</div></td><td>Alta especialidad en minima invasion, endourologia y cirugia robotica en urologia</td><td><div class=\"dni-plaintext\">12</div></td><td><div class=\"dni-plaintext\">&lt;null&gt;</div></td><td><div class=\"dni-plaintext\">&lt;null&gt;</div></td><td><div class=\"dni-plaintext\">&lt;null&gt;</div></td></tr><tr><td>7</td><td><div class=\"dni-plaintext\">91309005</div></td><td>Alta especialidad en oculoplastica</td><td><div class=\"dni-plaintext\">12</div></td><td><div class=\"dni-plaintext\">&lt;null&gt;</div></td><td><div class=\"dni-plaintext\">&lt;null&gt;</div></td><td><div class=\"dni-plaintext\">&lt;null&gt;</div></td></tr><tr><td>8</td><td><div class=\"dni-plaintext\">91335007</div></td><td>Alta especialidad en retina y vitrio</td><td><div class=\"dni-plaintext\">12</div></td><td><div class=\"dni-plaintext\">&lt;null&gt;</div></td><td><div class=\"dni-plaintext\">&lt;null&gt;</div></td><td><div class=\"dni-plaintext\">&lt;null&gt;</div></td></tr><tr><td>9</td><td><div class=\"dni-plaintext\">73100186</div></td><td>Arquitecto</td><td><div class=\"dni-plaintext\">11</div></td><td><div class=\"dni-plaintext\">&lt;null&gt;</div></td><td><div class=\"dni-plaintext\">&lt;null&gt;</div></td><td><div class=\"dni-plaintext\">&lt;null&gt;</div></td></tr><tr><td>10</td><td><div class=\"dni-plaintext\">21600127</div></td><td>Arquitecto (diseno de interiores)</td><td><div class=\"dni-plaintext\">11</div></td><td><div class=\"dni-plaintext\">&lt;null&gt;</div></td><td><div class=\"dni-plaintext\">&lt;null&gt;</div></td><td><div class=\"dni-plaintext\">&lt;null&gt;</div></td></tr><tr><td>11</td><td><div class=\"dni-plaintext\">73100185</div></td><td>Arquitecto constructor</td><td><div class=\"dni-plaintext\">11</div></td><td><div class=\"dni-plaintext\">&lt;null&gt;</div></td><td><div class=\"dni-plaintext\">&lt;null&gt;</div></td><td><div class=\"dni-plaintext\">&lt;null&gt;</div></td></tr><tr><td>12</td><td><div class=\"dni-plaintext\">73100184</div></td><td>Arquitecto urbanista</td><td><div class=\"dni-plaintext\">11</div></td><td><div class=\"dni-plaintext\">&lt;null&gt;</div></td><td><div class=\"dni-plaintext\">&lt;null&gt;</div></td><td><div class=\"dni-plaintext\">&lt;null&gt;</div></td></tr><tr><td>13</td><td><div class=\"dni-plaintext\">73100183</div></td><td>Arquitectura</td><td><div class=\"dni-plaintext\">11</div></td><td><div class=\"dni-plaintext\">&lt;null&gt;</div></td><td><div class=\"dni-plaintext\">&lt;null&gt;</div></td><td><div class=\"dni-plaintext\">&lt;null&gt;</div></td></tr><tr><td>14</td><td><div class=\"dni-plaintext\">42100621</div></td><td>Bachelor in business administration</td><td><div class=\"dni-plaintext\">11</div></td><td><div class=\"dni-plaintext\">&lt;null&gt;</div></td><td><div class=\"dni-plaintext\">&lt;null&gt;</div></td><td><div class=\"dni-plaintext\">&lt;null&gt;</div></td></tr><tr><td>15</td><td><div class=\"dni-plaintext\">41300125</div></td><td>Bachelor in financial management</td><td><div class=\"dni-plaintext\">11</div></td><td><div class=\"dni-plaintext\">&lt;null&gt;</div></td><td><div class=\"dni-plaintext\">&lt;null&gt;</div></td><td><div class=\"dni-plaintext\">&lt;null&gt;</div></td></tr><tr><td>16</td><td><div class=\"dni-plaintext\">31300161</div></td><td>Bachelor in international affairs</td><td><div class=\"dni-plaintext\">11</div></td><td><div class=\"dni-plaintext\">&lt;null&gt;</div></td><td><div class=\"dni-plaintext\">&lt;null&gt;</div></td><td><div class=\"dni-plaintext\">&lt;null&gt;</div></td></tr><tr><td>17</td><td><div class=\"dni-plaintext\">41100287</div></td><td>Bachelor in international business</td><td><div class=\"dni-plaintext\">11</div></td><td><div class=\"dni-plaintext\">&lt;null&gt;</div></td><td><div class=\"dni-plaintext\">&lt;null&gt;</div></td><td><div class=\"dni-plaintext\">&lt;null&gt;</div></td></tr><tr><td>18</td><td><div class=\"dni-plaintext\">41200322</div></td><td>Bachelor in marketing</td><td><div class=\"dni-plaintext\">11</div></td><td><div class=\"dni-plaintext\">&lt;null&gt;</div></td><td><div class=\"dni-plaintext\">&lt;null&gt;</div></td><td><div class=\"dni-plaintext\">&lt;null&gt;</div></td></tr><tr><td>19</td><td><div class=\"dni-plaintext\">41200321</div></td><td>Bachelor in marketing and communication</td><td><div class=\"dni-plaintext\">11</div></td><td><div class=\"dni-plaintext\">&lt;null&gt;</div></td><td><div class=\"dni-plaintext\">&lt;null&gt;</div></td><td><div class=\"dni-plaintext\">&lt;null&gt;</div></td></tr><tr><td colspan=\"7\">(10302 more)</td></tr></tbody></table>"
      ]
     },
     "metadata": {}
    }
   ],
   "metadata": {
    "dotnet_interactive": {
     "language": "csharp"
    }
   }
  },
  {
   "cell_type": "code",
   "execution_count": null,
   "source": [
    "var degrees = objects\r\n",
    "    .GroupBy(o => o[\"Academic Degree ID\"])\r\n",
    "    .Select(g => g.First())\r\n",
    "    .Select(o => new Degree {\r\n",
    "        Id = (int)o[\"Academic Degree ID\"],\r\n",
    "        Name = o[\"Academic Degree\"].ToString(),\r\n",
    "    })\r\n",
    "    .OrderBy(d => d.Name)\r\n",
    "    .ToList();\r\n",
    "\r\n",
    "degrees"
   ],
   "outputs": [
    {
     "output_type": "display_data",
     "data": {
      "text/html": [
       "<table><thead><tr><th><i>index</i></th><th>Id</th><th>Name</th><th>Careers</th></tr></thead><tbody><tr><td>0</td><td><div class=\"dni-plaintext\">14</div></td><td>Doctorado</td><td><div class=\"dni-plaintext\">&lt;null&gt;</div></td></tr><tr><td>1</td><td><div class=\"dni-plaintext\">12</div></td><td>Especialidad</td><td><div class=\"dni-plaintext\">&lt;null&gt;</div></td></tr><tr><td>2</td><td><div class=\"dni-plaintext\">8</div></td><td>Estudios T&#233;cnicos o Comerciales con Preparatoria Terminada</td><td><div class=\"dni-plaintext\">&lt;null&gt;</div></td></tr><tr><td>3</td><td><div class=\"dni-plaintext\">11</div></td><td>Licenciatura</td><td><div class=\"dni-plaintext\">&lt;null&gt;</div></td></tr><tr><td>4</td><td><div class=\"dni-plaintext\">13</div></td><td>Maestr&#237;a</td><td><div class=\"dni-plaintext\">&lt;null&gt;</div></td></tr><tr><td>5</td><td><div class=\"dni-plaintext\">10</div></td><td>Normal de Licenciatura</td><td><div class=\"dni-plaintext\">&lt;null&gt;</div></td></tr></tbody></table>"
      ]
     },
     "metadata": {}
    }
   ],
   "metadata": {
    "dotnet_interactive": {
     "language": "csharp"
    }
   }
  },
  {
   "cell_type": "markdown",
   "source": [
    "Now that we have all the data of each table, let's create a query to get the many-to-many relationship between institutions and the careers each one offers:"
   ],
   "metadata": {}
  },
  {
   "cell_type": "code",
   "execution_count": null,
   "source": [
    "var relations = objects\r\n",
    "    .Select(o => new InstitutionCareer {\r\n",
    "        InstitutionId = (int)o[\"Institution ID\"],\r\n",
    "        CareerId = (int)o[\"Career ID\"]\r\n",
    "    })\r\n",
    "    .GroupBy(r => new { r.InstitutionId, r.CareerId })\r\n",
    "    .Select(g => g.First())\r\n",
    "    .ToList();\r\n",
    "\r\n",
    "relations"
   ],
   "outputs": [
    {
     "output_type": "display_data",
     "data": {
      "text/html": [
       "<table><thead><tr><th><i>index</i></th><th>InstitutionId</th><th>Institution</th><th>CareerId</th><th>Career</th></tr></thead><tbody><tr><td>0</td><td><div class=\"dni-plaintext\">2965</div></td><td><div class=\"dni-plaintext\">&lt;null&gt;</div></td><td><div class=\"dni-plaintext\">11000059</div></td><td><div class=\"dni-plaintext\">&lt;null&gt;</div></td></tr><tr><td>1</td><td><div class=\"dni-plaintext\">3345</div></td><td><div class=\"dni-plaintext\">&lt;null&gt;</div></td><td><div class=\"dni-plaintext\">11200001</div></td><td><div class=\"dni-plaintext\">&lt;null&gt;</div></td></tr><tr><td>2</td><td><div class=\"dni-plaintext\">1187</div></td><td><div class=\"dni-plaintext\">&lt;null&gt;</div></td><td><div class=\"dni-plaintext\">12000001</div></td><td><div class=\"dni-plaintext\">&lt;null&gt;</div></td></tr><tr><td>3</td><td><div class=\"dni-plaintext\">1432</div></td><td><div class=\"dni-plaintext\">&lt;null&gt;</div></td><td><div class=\"dni-plaintext\">12602001</div></td><td><div class=\"dni-plaintext\">&lt;null&gt;</div></td></tr><tr><td>4</td><td><div class=\"dni-plaintext\">2192</div></td><td><div class=\"dni-plaintext\">&lt;null&gt;</div></td><td><div class=\"dni-plaintext\">12602001</div></td><td><div class=\"dni-plaintext\">&lt;null&gt;</div></td></tr><tr><td>5</td><td><div class=\"dni-plaintext\">597</div></td><td><div class=\"dni-plaintext\">&lt;null&gt;</div></td><td><div class=\"dni-plaintext\">12602002</div></td><td><div class=\"dni-plaintext\">&lt;null&gt;</div></td></tr><tr><td>6</td><td><div class=\"dni-plaintext\">2229</div></td><td><div class=\"dni-plaintext\">&lt;null&gt;</div></td><td><div class=\"dni-plaintext\">12603001</div></td><td><div class=\"dni-plaintext\">&lt;null&gt;</div></td></tr><tr><td>7</td><td><div class=\"dni-plaintext\">2997</div></td><td><div class=\"dni-plaintext\">&lt;null&gt;</div></td><td><div class=\"dni-plaintext\">12603002</div></td><td><div class=\"dni-plaintext\">&lt;null&gt;</div></td></tr><tr><td>8</td><td><div class=\"dni-plaintext\">2724</div></td><td><div class=\"dni-plaintext\">&lt;null&gt;</div></td><td><div class=\"dni-plaintext\">12603003</div></td><td><div class=\"dni-plaintext\">&lt;null&gt;</div></td></tr><tr><td>9</td><td><div class=\"dni-plaintext\">2659</div></td><td><div class=\"dni-plaintext\">&lt;null&gt;</div></td><td><div class=\"dni-plaintext\">12603004</div></td><td><div class=\"dni-plaintext\">&lt;null&gt;</div></td></tr><tr><td>10</td><td><div class=\"dni-plaintext\">2189</div></td><td><div class=\"dni-plaintext\">&lt;null&gt;</div></td><td><div class=\"dni-plaintext\">12700001</div></td><td><div class=\"dni-plaintext\">&lt;null&gt;</div></td></tr><tr><td>11</td><td><div class=\"dni-plaintext\">1499</div></td><td><div class=\"dni-plaintext\">&lt;null&gt;</div></td><td><div class=\"dni-plaintext\">12701001</div></td><td><div class=\"dni-plaintext\">&lt;null&gt;</div></td></tr><tr><td>12</td><td><div class=\"dni-plaintext\">2076</div></td><td><div class=\"dni-plaintext\">&lt;null&gt;</div></td><td><div class=\"dni-plaintext\">12701001</div></td><td><div class=\"dni-plaintext\">&lt;null&gt;</div></td></tr><tr><td>13</td><td><div class=\"dni-plaintext\">2677</div></td><td><div class=\"dni-plaintext\">&lt;null&gt;</div></td><td><div class=\"dni-plaintext\">12701002</div></td><td><div class=\"dni-plaintext\">&lt;null&gt;</div></td></tr><tr><td>14</td><td><div class=\"dni-plaintext\">2933</div></td><td><div class=\"dni-plaintext\">&lt;null&gt;</div></td><td><div class=\"dni-plaintext\">12701003</div></td><td><div class=\"dni-plaintext\">&lt;null&gt;</div></td></tr><tr><td>15</td><td><div class=\"dni-plaintext\">2433</div></td><td><div class=\"dni-plaintext\">&lt;null&gt;</div></td><td><div class=\"dni-plaintext\">21000001</div></td><td><div class=\"dni-plaintext\">&lt;null&gt;</div></td></tr><tr><td>16</td><td><div class=\"dni-plaintext\">2864</div></td><td><div class=\"dni-plaintext\">&lt;null&gt;</div></td><td><div class=\"dni-plaintext\">21100001</div></td><td><div class=\"dni-plaintext\">&lt;null&gt;</div></td></tr><tr><td>17</td><td><div class=\"dni-plaintext\">206</div></td><td><div class=\"dni-plaintext\">&lt;null&gt;</div></td><td><div class=\"dni-plaintext\">21100002</div></td><td><div class=\"dni-plaintext\">&lt;null&gt;</div></td></tr><tr><td>18</td><td><div class=\"dni-plaintext\">597</div></td><td><div class=\"dni-plaintext\">&lt;null&gt;</div></td><td><div class=\"dni-plaintext\">21200001</div></td><td><div class=\"dni-plaintext\">&lt;null&gt;</div></td></tr><tr><td>19</td><td><div class=\"dni-plaintext\">1005</div></td><td><div class=\"dni-plaintext\">&lt;null&gt;</div></td><td><div class=\"dni-plaintext\">21200002</div></td><td><div class=\"dni-plaintext\">&lt;null&gt;</div></td></tr><tr><td colspan=\"5\">(34470 more)</td></tr></tbody></table>"
      ]
     },
     "metadata": {}
    }
   ],
   "metadata": {
    "dotnet_interactive": {
     "language": "csharp"
    }
   }
  },
  {
   "cell_type": "markdown",
   "source": [
    "## Uploading to database\r\n",
    "\r\n",
    "It's time to upload the data we just filtered and organized to the database. First, we need to create an instance of our database context, `SchoolsContext`, and with it we can use all the power provided by Entity Framework Core, including adding the previous records and saving the changes:"
   ],
   "metadata": {}
  },
  {
   "cell_type": "code",
   "execution_count": null,
   "source": [
    "using (var context = new SchoolsContext()) {\r\n",
    "    await context.Institutions.AddRangeAsync(institutions);\r\n",
    "    await context.Degrees.AddRangeAsync(degrees);\r\n",
    "    await context.Careers.AddRangeAsync(careers);\r\n",
    "    await context.InstitutionCareers.AddRangeAsync(relations);\r\n",
    "    \r\n",
    "    await context.SaveChangesAsync();\r\n",
    "}"
   ],
   "outputs": [],
   "metadata": {
    "dotnet_interactive": {
     "language": "csharp"
    }
   }
  },
  {
   "cell_type": "markdown",
   "source": [
    "## Retrieving from database\r\n",
    "\r\n",
    "Finally let's check if our data was successfully uplodaded.\r\n",
    "There were no errors so if you check the tables in your own database server you should be able to verify it, but for demonstration purposes I'm going to use the context to get some data:"
   ],
   "metadata": {}
  },
  {
   "cell_type": "code",
   "execution_count": null,
   "source": [
    "using Microsoft.EntityFrameworkCore;\r\n",
    "using System.Linq;\r\n",
    "\r\n",
    "public class InstitutionDto {\r\n",
    "    public class CareerDto {\r\n",
    "        public string Name { get; set; }\r\n",
    "        public string Degree { get; set; }\r\n",
    "    }\r\n",
    "\r\n",
    "    public string Name { get; set; }\r\n",
    "    public List<CareerDto> Careers { get; set; }\r\n",
    "}\r\n",
    "\r\n",
    "InstitutionDto uanl;\r\n",
    "using (var context = new SchoolsContext()) {\r\n",
    "    uanl = await context.Institutions\r\n",
    "        .Where(i => i.Name == \"Universidad Autónoma De Nuevo León\")\r\n",
    "        .Select(i => new InstitutionDto {\r\n",
    "            Name = i.Name,\r\n",
    "            Careers = i.Careers\r\n",
    "                .Select(c => new InstitutionDto.CareerDto {\r\n",
    "                    Name = c.Name,\r\n",
    "                    Degree = c.Degree.Name\r\n",
    "                })\r\n",
    "                .ToList()\r\n",
    "        })\r\n",
    "        .SingleOrDefaultAsync();\r\n",
    "}"
   ],
   "outputs": [],
   "metadata": {
    "dotnet_interactive": {
     "language": "csharp"
    }
   }
  },
  {
   "cell_type": "markdown",
   "source": [
    "Now we can do any query we want, as getting a list of all the bachelors offered by an university, in this case the UANL:"
   ],
   "metadata": {}
  },
  {
   "cell_type": "code",
   "execution_count": null,
   "source": [
    "uanl.Name"
   ],
   "outputs": [
    {
     "output_type": "display_data",
     "data": {
      "text/plain": [
       "Universidad Autónoma De Nuevo León"
      ]
     },
     "metadata": {}
    }
   ],
   "metadata": {
    "dotnet_interactive": {
     "language": "csharp"
    }
   }
  },
  {
   "cell_type": "code",
   "execution_count": null,
   "source": [
    "uanl.Careers\r\n",
    "    .Where(c => c.Degree == \"Licenciatura\")\r\n",
    "    .OrderBy(c => c.Name)"
   ],
   "outputs": [
    {
     "output_type": "display_data",
     "data": {
      "text/html": [
       "<table><thead><tr><th><i>index</i></th><th>Name</th><th>Degree</th></tr></thead><tbody><tr><td>0</td><td>Arquitecto</td><td>Licenciatura</td></tr><tr><td>1</td><td>Biologo</td><td>Licenciatura</td></tr><tr><td>2</td><td>Cirujano dentista</td><td>Licenciatura</td></tr><tr><td>3</td><td>Ingenieria administrador de sistemas</td><td>Licenciatura</td></tr><tr><td>4</td><td>Ingenieria agronomo</td><td>Licenciatura</td></tr><tr><td>5</td><td>Ingenieria ambiental</td><td>Licenciatura</td></tr><tr><td>6</td><td>Ingenieria civil</td><td>Licenciatura</td></tr><tr><td>7</td><td>Ingenieria en aeronautica</td><td>Licenciatura</td></tr><tr><td>8</td><td>Ingenieria en agronegocios</td><td>Licenciatura</td></tr><tr><td>9</td><td>Ingenieria en biotecnologia</td><td>Licenciatura</td></tr><tr><td>10</td><td>Ingenieria en control y computacion</td><td>Licenciatura</td></tr><tr><td>11</td><td>Ingenieria en electronica y automatizacion</td><td>Licenciatura</td></tr><tr><td>12</td><td>Ingenieria en electronica y comunicaciones</td><td>Licenciatura</td></tr><tr><td>13</td><td>Ingenieria en industrias alimentarias</td><td>Licenciatura</td></tr><tr><td>14</td><td>Ingenieria en manejo de recursos naturales</td><td>Licenciatura</td></tr><tr><td>15</td><td>Ingenieria en manufactura</td><td>Licenciatura</td></tr><tr><td>16</td><td>Ingenieria en materiales</td><td>Licenciatura</td></tr><tr><td>17</td><td>Ingenieria en mecatronica</td><td>Licenciatura</td></tr><tr><td>18</td><td>Ingenieria en tecnologia de software</td><td>Licenciatura</td></tr><tr><td>19</td><td>Ingenieria forestal</td><td>Licenciatura</td></tr><tr><td colspan=\"3\">(67 more)</td></tr></tbody></table>"
      ]
     },
     "metadata": {}
    }
   ],
   "metadata": {
    "dotnet_interactive": {
     "language": "csharp"
    }
   }
  }
 ],
 "nbformat": 4,
 "nbformat_minor": 2
}